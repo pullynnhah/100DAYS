{
 "cells": [
  {
   "cell_type": "code",
   "execution_count": 1,
   "id": "303dfcba",
   "metadata": {
    "ExecuteTime": {
     "end_time": "2021-06-27T11:58:26.182824Z",
     "start_time": "2021-06-27T11:58:25.730661Z"
    }
   },
   "outputs": [],
   "source": [
    "# imports\n",
    "import requests\n",
    "from bs4 import BeautifulSoup\n",
    "\n",
    "import pandas as pd"
   ]
  },
  {
   "cell_type": "code",
   "execution_count": 2,
   "id": "639acad1",
   "metadata": {
    "ExecuteTime": {
     "end_time": "2021-06-27T11:58:26.404455Z",
     "start_time": "2021-06-27T11:58:26.184955Z"
    }
   },
   "outputs": [
    {
     "data": {
      "text/plain": [
       "['Rank',\n",
       " 'Major',\n",
       " 'Degree Type',\n",
       " 'Early Career Pay',\n",
       " 'Mid-Career Pay',\n",
       " '% High Meaning']"
      ]
     },
     "execution_count": 2,
     "metadata": {},
     "output_type": "execute_result"
    }
   ],
   "source": [
    "link = 'https://www.payscale.com/college-salary-report/majors-that-pay-you-back/bachelors/page/1'\n",
    "response = requests.get(link)\n",
    "soup = BeautifulSoup(response.text, 'html.parser')\n",
    "columns = [column.text for column in soup.find_all('th')]\n",
    "columns"
   ]
  },
  {
   "cell_type": "code",
   "execution_count": 3,
   "id": "74a30261",
   "metadata": {
    "ExecuteTime": {
     "end_time": "2021-06-27T11:58:26.419134Z",
     "start_time": "2021-06-27T11:58:26.406500Z"
    }
   },
   "outputs": [
    {
     "data": {
      "text/plain": [
       "[['1', 'Petroleum Engineering', 'Bachelors', 92300, 182000, 69],\n",
       " ['2',\n",
       "  'Electrical Engineering & Computer Science (EECS)',\n",
       "  'Bachelors',\n",
       "  101200,\n",
       "  152300,\n",
       "  46],\n",
       " ['3', 'Applied Economics and Management', 'Bachelors', 60900, 139600, 67],\n",
       " ['3', 'Operations Research', 'Bachelors', 78400, 139600, 52],\n",
       " ['5', 'Public Accounting', 'Bachelors', 60000, 138800, 49],\n",
       " ['6',\n",
       "  'Chemical Engineering/Materials Science & Engineering',\n",
       "  'Bachelors',\n",
       "  74500,\n",
       "  137800,\n",
       "  60],\n",
       " ['7', 'Quantitative Business Analysis', 'Bachelors', 67900, 136200, 55],\n",
       " ['8', 'Pharmacy', 'Bachelors', 66300, 133200, 79],\n",
       " ['9', 'Aeronautics & Astronautics', 'Bachelors', 74000, 133100, 60],\n",
       " ['10', 'Systems Engineering', 'Bachelors', 74000, 132900, 54],\n",
       " ['11', 'Electrical Power Engineering', 'Bachelors', 73100, 130700, 67],\n",
       " ['12', 'Actuarial Mathematics', 'Bachelors', 61900, 130500, 50],\n",
       " ['13', 'Aerospace Studies', 'Bachelors', 50300, 130300, '-'],\n",
       " ['14', 'Chemical Engineering', 'Bachelors', 73500, 128900, 56],\n",
       " ['15', 'Actuarial Science', 'Bachelors', 64700, 128700, 42],\n",
       " ['16', 'Information & Computer Science', 'Bachelors', 70300, 127600, 60],\n",
       " ['17', 'Aeronautical Engineering', 'Bachelors', 71600, 125900, 64],\n",
       " ['18',\n",
       "  'Operations & Information Systems Management',\n",
       "  'Bachelors',\n",
       "  63800,\n",
       "  125100,\n",
       "  31],\n",
       " ['18', 'Political Economy', 'Bachelors', 58200, 125100, 34],\n",
       " ['20', 'Marine Engineering', 'Bachelors', 74700, 125000, 64],\n",
       " ['21', 'Computer Systems Engineering', 'Bachelors', 74600, 124800, 49],\n",
       " ['22', 'Nuclear Engineering', 'Bachelors', 73100, 124500, 63],\n",
       " ['23', 'Computer Science (CS) & Engineering', 'Bachelors', 74000, 124000, 44],\n",
       " ['24', 'Corporate Accounting & Finance', 'Bachelors', 61200, 123600, 57],\n",
       " ['25',\n",
       "  'Electrical & Computer Engineering (ECE)',\n",
       "  'Bachelors',\n",
       "  73900,\n",
       "  123300,\n",
       "  49]]"
      ]
     },
     "execution_count": 3,
     "metadata": {},
     "output_type": "execute_result"
    }
   ],
   "source": [
    "def clean_row(row):\n",
    "    text = row.split(':')[-1]\n",
    "    if text.startswith('$'):\n",
    "        return int(text.replace(',', '')[1:])\n",
    "    if row.endswith('%'):\n",
    "        return int(text[:-1])\n",
    "    return text\n",
    "\n",
    "rows = [[clean_row(row.text) for row in body.find_all('td')] for body in soup.find('tbody').find_all('tr')]\n",
    "rows"
   ]
  }
 ],
 "metadata": {
  "kernelspec": {
   "display_name": "Python 3",
   "language": "python",
   "name": "python3"
  },
  "language_info": {
   "codemirror_mode": {
    "name": "ipython",
    "version": 3
   },
   "file_extension": ".py",
   "mimetype": "text/x-python",
   "name": "python",
   "nbconvert_exporter": "python",
   "pygments_lexer": "ipython3",
   "version": "3.9.5"
  },
  "toc": {
   "base_numbering": 1,
   "nav_menu": {},
   "number_sections": false,
   "sideBar": true,
   "skip_h1_title": false,
   "title_cell": "Table of Contents",
   "title_sidebar": "Contents",
   "toc_cell": false,
   "toc_position": {},
   "toc_section_display": true,
   "toc_window_display": true
  }
 },
 "nbformat": 4,
 "nbformat_minor": 5
}
